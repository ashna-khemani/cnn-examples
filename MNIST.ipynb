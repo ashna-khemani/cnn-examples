{
  "cells": [
    {
      "cell_type": "markdown",
      "metadata": {},
      "source": [
        "**<a href=\"https://colab.research.google.com/github/ashna-khemani/cnn-examples/blob/main/MNIST.ipynb\">Open with Colab</a>**"
      ]
    },
    {
      "cell_type": "markdown",
      "metadata": {
        "id": "VQFHk4rSS0AQ"
      },
      "source": [
        "# CNN with MNIST\n",
        "Here, we create a CNN model that can \"read\" handwritten digits 0-9, using the MNIST dataset"
      ]
    },
    {
      "cell_type": "code",
      "execution_count": null,
      "metadata": {
        "id": "1_rc1eOx7mWA"
      },
      "outputs": [],
      "source": [
        "# Get libraries\n",
        "import numpy as np\n",
        "import tensorflow as tf\n",
        "import matplotlib.pyplot as pyplot"
      ]
    },
    {
      "cell_type": "code",
      "execution_count": null,
      "metadata": {
        "colab": {
          "base_uri": "https://localhost:8080/"
        },
        "id": "DiuX-8-38PTG",
        "outputId": "52cf77d8-5ecc-419b-c5d9-0d6fae74ad0d"
      },
      "outputs": [
        {
          "name": "stdout",
          "output_type": "stream",
          "text": [
            "(60000, 28, 28)\n",
            "(28, 28)\n"
          ]
        }
      ],
      "source": [
        "# Get dataset\n",
        "(x_train, y_train), (x_test, y_test) = tf.keras.datasets.mnist.load_data()\n",
        "print(x_train.shape)\n",
        "print(x_train[1].shape)\n",
        "\n",
        "# normalize pixel values (neural nets don't work with the regular values 0-255)\n",
        "x_train = x_train / 255.0\n",
        "x_test = x_test / 255.0"
      ]
    },
    {
      "cell_type": "code",
      "execution_count": null,
      "metadata": {
        "id": "Bc7abOOJdrrV"
      },
      "outputs": [],
      "source": [
        "# Assemble layers\n",
        "\n",
        "from keras import layers\n",
        "from keras import Sequential\n",
        "\n",
        "cnn_model = Sequential([\n",
        "    # First layer\n",
        "    layers.Conv2D(filters=16, kernel_size=3, activation=\"relu\", padding='same', input_shape=(28, 28, 1)),\n",
        "    layers.MaxPooling2D(),\n",
        "\n",
        "    # Second layer\n",
        "    layers.Conv2D(filters=32, kernel_size=3, activation=\"relu\", padding='same'),\n",
        "    layers.MaxPooling2D(),\n",
        "\n",
        "    # Flatten layers into vectors, and assemble full network\n",
        "    layers.Flatten(),\n",
        "    layers.Dense(512, activation=\"relu\"),\n",
        "    layers.Dense(10, activation=\"softmax\")\n",
        "])"
      ]
    },
    {
      "cell_type": "code",
      "execution_count": null,
      "metadata": {
        "colab": {
          "base_uri": "https://localhost:8080/"
        },
        "id": "IAbw38Z4RZmA",
        "outputId": "b28d77c3-07ba-4dbd-d3e4-ac839327ca15"
      },
      "outputs": [
        {
          "name": "stdout",
          "output_type": "stream",
          "text": [
            "Model: \"sequential_2\"\n",
            "_________________________________________________________________\n",
            " Layer (type)                Output Shape              Param #   \n",
            "=================================================================\n",
            " conv2d_4 (Conv2D)           (None, 28, 28, 16)        160       \n",
            "                                                                 \n",
            " max_pooling2d_4 (MaxPooling  (None, 14, 14, 16)       0         \n",
            " 2D)                                                             \n",
            "                                                                 \n",
            " conv2d_5 (Conv2D)           (None, 14, 14, 32)        4640      \n",
            "                                                                 \n",
            " max_pooling2d_5 (MaxPooling  (None, 7, 7, 32)         0         \n",
            " 2D)                                                             \n",
            "                                                                 \n",
            " flatten_2 (Flatten)         (None, 1568)              0         \n",
            "                                                                 \n",
            " dense_4 (Dense)             (None, 512)               803328    \n",
            "                                                                 \n",
            " dense_5 (Dense)             (None, 10)                5130      \n",
            "                                                                 \n",
            "=================================================================\n",
            "Total params: 813,258\n",
            "Trainable params: 813,258\n",
            "Non-trainable params: 0\n",
            "_________________________________________________________________\n"
          ]
        }
      ],
      "source": [
        "# Compile model\n",
        "cnn_model.compile(optimizer=\"adam\", metrics=['accuracy'], loss=tf.keras.losses.SparseCategoricalCrossentropy())\n",
        "cnn_model.summary()"
      ]
    },
    {
      "cell_type": "code",
      "execution_count": null,
      "metadata": {
        "colab": {
          "base_uri": "https://localhost:8080/"
        },
        "id": "zVCT9roKSSn8",
        "outputId": "92a97517-7bae-4c0c-d918-cbe0b35c3fcb"
      },
      "outputs": [
        {
          "name": "stdout",
          "output_type": "stream",
          "text": [
            "938/938 [==============================] - 15s 4ms/step - loss: 0.1561 - accuracy: 0.9527\n"
          ]
        },
        {
          "data": {
            "text/plain": [
              "<keras.callbacks.History at 0x7f45e15d3310>"
            ]
          },
          "execution_count": 7,
          "metadata": {},
          "output_type": "execute_result"
        }
      ],
      "source": [
        "# Train\n",
        "epochs=1\n",
        "batch_size=64\n",
        "cnn_model.fit(x=x_train, y=y_train, batch_size=batch_size, epochs=epochs)"
      ]
    }
  ],
  "metadata": {
    "accelerator": "GPU",
    "colab": {
      "authorship_tag": "ABX9TyMLSzYdkmJNela/SEt5x003",
      "gpuType": "T4",
      "include_colab_link": true,
      "provenance": []
    },
    "kernelspec": {
      "display_name": "Python 3",
      "name": "python3"
    },
    "language_info": {
      "name": "python"
    }
  },
  "nbformat": 4,
  "nbformat_minor": 0
}
