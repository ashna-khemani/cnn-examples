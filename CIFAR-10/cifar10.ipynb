{
  "cells": [
    {
      "attachments": {},
      "cell_type": "markdown",
      "metadata": {
        "id": "-bpAJ4emle9N"
      },
      "source": [
        "# CNN with CIFAR-10 Dataset\n",
        "CIFAR-10 has 32x32 images in 10 classes (airplane, automobile, bird, cat, deer, dog, frog, horse, ship, truck). The labels are represented as integers 0-9. By using `keras.datasets` to import the data, these images will be represented as NumPy arrays.   \n",
        "**Goal**: make a CNN that can classify images into 10 different object categories    \n",
        "*Read about the dataset <a href=\"https://www.cs.toronto.edu/~kriz/cifar.html\">here</a>.   \n",
        "Based on this <a href=\"https://www.tensorflow.org/tutorials/images/cnn\">example</a> from Tensorflow.*"
      ]
    },
    {
      "attachments": {},
      "cell_type": "markdown",
      "metadata": {
        "id": "Hc4o-gmele9P"
      },
      "source": [
        "Import necessary libraries"
      ]
    },
    {
      "cell_type": "code",
      "execution_count": 1,
      "metadata": {
        "id": "Vdbha500le9R"
      },
      "outputs": [],
      "source": [
        "import tensorflow as tf\n",
        "from tensorflow.keras import layers, datasets\n",
        "import matplotlib.pyplot as plt\n",
        "import numpy as np"
      ]
    },
    {
      "attachments": {},
      "cell_type": "markdown",
      "metadata": {
        "id": "P0gWWfMrle9T"
      },
      "source": [
        "Load the dataset, train-test split"
      ]
    },
    {
      "cell_type": "code",
      "execution_count": 2,
      "metadata": {
        "id": "tQLkY7Nnle9U"
      },
      "outputs": [],
      "source": [
        "(train_images, train_labels), (test_images, test_labels) = tf.keras.datasets.cifar10.load_data()"
      ]
    },
    {
      "attachments": {},
      "cell_type": "markdown",
      "metadata": {
        "id": "ljoBODOLle9U"
      },
      "source": [
        "## Data Preprocessing\n",
        "Normalize pixel values   "
      ]
    },
    {
      "cell_type": "code",
      "execution_count": 3,
      "metadata": {
        "id": "QUxYkBxfle9V"
      },
      "outputs": [],
      "source": [
        "train_images, test_images = train_images / 255.0, test_images / 255.0"
      ]
    },
    {
      "attachments": {},
      "cell_type": "markdown",
      "metadata": {
        "id": "AThuQejOle9W"
      },
      "source": [
        "## Build CNN Model"
      ]
    },
    {
      "attachments": {},
      "cell_type": "markdown",
      "metadata": {
        "id": "0zy2FhAmle9W"
      },
      "source": [
        "Assemble the layers of the CNN\n",
        "1. 3 hidden layers\n",
        "2. Dropout layer of 0.2 (randomly drop 20% of outputs to avoid overfitting)\n",
        "3. Flatten and Dense: all of the above steps actually give matrices, so we flatten them into vectors representing each layer, then connect the nodes\n",
        "4. Create output layer with 10 nodes (for 10 classes of CIFAR-10)"
      ]
    },
    {
      "cell_type": "code",
      "execution_count": 4,
      "metadata": {
        "id": "eujcSu2ole9X"
      },
      "outputs": [],
      "source": [
        "from keras import Sequential\n",
        "\n",
        "num_classes = 10\n",
        "\n",
        "cnn_model = Sequential([\n",
        "\n",
        "    # First hidden layer\n",
        "    layers.Conv2D(filters=32, kernel_size=3, activation='relu', input_shape=(32,32,3)),\n",
        "    layers.MaxPool2D(),\n",
        "\n",
        "    # Second hidden layer\n",
        "    layers.Conv2D(filters=64, kernel_size=3, activation='relu'),\n",
        "    layers.MaxPool2D(),\n",
        "\n",
        "    # Third hidden layer\n",
        "    layers.Conv2D(filters=64, kernel_size=3, activation='relu'),\n",
        "    layers.MaxPool2D(),\n",
        "\n",
        "    # Dropout layer\n",
        "    layers.Dropout(0.2),\n",
        "\n",
        "    # Flatten and connection of neural net\n",
        "    layers.Flatten(),\n",
        "    layers.Dense(64, activation='relu'),\n",
        "    layers.Dense(num_classes)\n",
        "])\n"
      ]
    },
    {
      "attachments": {},
      "cell_type": "markdown",
      "metadata": {
        "id": "6zYQswIdle9Z"
      },
      "source": [
        "Compile and train"
      ]
    },
    {
      "cell_type": "code",
      "execution_count": 5,
      "metadata": {
        "colab": {
          "base_uri": "https://localhost:8080/"
        },
        "id": "OtqAF-yGle9Z",
        "outputId": "3c4a1e0e-470a-4dce-db28-cb8ed40e72c6"
      },
      "outputs": [
        {
          "name": "stdout",
          "output_type": "stream",
          "text": [
            "Model: \"sequential\"\n",
            "_________________________________________________________________\n",
            " Layer (type)                Output Shape              Param #   \n",
            "=================================================================\n",
            " conv2d (Conv2D)             (None, 30, 30, 32)        896       \n",
            "                                                                 \n",
            " max_pooling2d (MaxPooling2D  (None, 15, 15, 32)       0         \n",
            " )                                                               \n",
            "                                                                 \n",
            " conv2d_1 (Conv2D)           (None, 13, 13, 64)        18496     \n",
            "                                                                 \n",
            " max_pooling2d_1 (MaxPooling  (None, 6, 6, 64)         0         \n",
            " 2D)                                                             \n",
            "                                                                 \n",
            " conv2d_2 (Conv2D)           (None, 4, 4, 64)          36928     \n",
            "                                                                 \n",
            " max_pooling2d_2 (MaxPooling  (None, 2, 2, 64)         0         \n",
            " 2D)                                                             \n",
            "                                                                 \n",
            " dropout (Dropout)           (None, 2, 2, 64)          0         \n",
            "                                                                 \n",
            " flatten (Flatten)           (None, 256)               0         \n",
            "                                                                 \n",
            " dense (Dense)               (None, 64)                16448     \n",
            "                                                                 \n",
            " dense_1 (Dense)             (None, 10)                650       \n",
            "                                                                 \n",
            "=================================================================\n",
            "Total params: 73,418\n",
            "Trainable params: 73,418\n",
            "Non-trainable params: 0\n",
            "_________________________________________________________________\n"
          ]
        }
      ],
      "source": [
        "# Compile the model\n",
        "cnn_model.compile(optimizer=\"adam\", loss=tf.keras.losses.SparseCategoricalCrossentropy(from_logits=True), metrics=['accuracy'])\n",
        "cnn_model.summary()"
      ]
    },
    {
      "cell_type": "code",
      "execution_count": 6,
      "metadata": {
        "colab": {
          "base_uri": "https://localhost:8080/"
        },
        "id": "l3Cp8PsImMZu",
        "outputId": "07bbfe8e-375c-45e8-e417-7af7c70cc7ed"
      },
      "outputs": [
        {
          "name": "stdout",
          "output_type": "stream",
          "text": [
            "Epoch 1/10\n",
            "1563/1563 [==============================] - 13s 6ms/step - loss: 1.6568 - accuracy: 0.3850 - val_loss: 1.3454 - val_accuracy: 0.5132\n",
            "Epoch 2/10\n",
            "1563/1563 [==============================] - 8s 5ms/step - loss: 1.3305 - accuracy: 0.5212 - val_loss: 1.1946 - val_accuracy: 0.5742\n",
            "Epoch 3/10\n",
            "1563/1563 [==============================] - 9s 5ms/step - loss: 1.1989 - accuracy: 0.5732 - val_loss: 1.1017 - val_accuracy: 0.6055\n",
            "Epoch 4/10\n",
            "1563/1563 [==============================] - 9s 5ms/step - loss: 1.1119 - accuracy: 0.6054 - val_loss: 1.0510 - val_accuracy: 0.6240\n",
            "Epoch 5/10\n",
            "1563/1563 [==============================] - 8s 5ms/step - loss: 1.0434 - accuracy: 0.6311 - val_loss: 1.0125 - val_accuracy: 0.6425\n",
            "Epoch 6/10\n",
            "1563/1563 [==============================] - 8s 5ms/step - loss: 0.9928 - accuracy: 0.6497 - val_loss: 0.9721 - val_accuracy: 0.6522\n",
            "Epoch 7/10\n",
            "1563/1563 [==============================] - 8s 5ms/step - loss: 0.9550 - accuracy: 0.6637 - val_loss: 0.9223 - val_accuracy: 0.6747\n",
            "Epoch 8/10\n",
            "1563/1563 [==============================] - 7s 5ms/step - loss: 0.9129 - accuracy: 0.6757 - val_loss: 0.9046 - val_accuracy: 0.6840\n",
            "Epoch 9/10\n",
            "1563/1563 [==============================] - 8s 5ms/step - loss: 0.8833 - accuracy: 0.6872 - val_loss: 0.8761 - val_accuracy: 0.6952\n",
            "Epoch 10/10\n",
            "1563/1563 [==============================] - 9s 5ms/step - loss: 0.8600 - accuracy: 0.6971 - val_loss: 0.8842 - val_accuracy: 0.6852\n"
          ]
        }
      ],
      "source": [
        "# Train the model\n",
        "history = cnn_model.fit(x=train_images, y=train_labels, validation_data=(test_images, test_labels), epochs=10)"
      ]
    },
    {
      "attachments": {},
      "cell_type": "markdown",
      "metadata": {
        "id": "5_QA67PxRmXg"
      },
      "source": [
        "## Evaluation"
      ]
    },
    {
      "attachments": {},
      "cell_type": "markdown",
      "metadata": {
        "id": "Z0PUZ5hsSOd-"
      },
      "source": [
        "Graph to show how accuracy changes with testing and validation over each epoch"
      ]
    },
    {
      "cell_type": "code",
      "execution_count": 7,
      "metadata": {
        "colab": {
          "base_uri": "https://localhost:8080/",
          "height": 473
        },
        "id": "tloTBKPZSPu_",
        "outputId": "1f87045d-4d94-4903-97e2-5ee0ed296e45"
      },
      "outputs": [
        {
          "name": "stdout",
          "output_type": "stream",
          "text": [
            "313/313 - 1s - loss: 0.8842 - accuracy: 0.6852 - 681ms/epoch - 2ms/step\n"
          ]
        },
        {
          "data": {
            "image/png": "[encoded data removed]",
            "text/plain": [
              "<Figure size 640x480 with 1 Axes>"
            ]
          },
          "metadata": {},
          "output_type": "display_data"
        }
      ],
      "source": [
        "plt.plot(history.history['accuracy'], label='accuracy')\n",
        "plt.plot(history.history['val_accuracy'], label = 'val_accuracy')\n",
        "plt.xlabel('Epoch')\n",
        "plt.ylabel('Accuracy')\n",
        "plt.ylim([0.5, 1])\n",
        "plt.legend(loc='lower right')\n",
        "\n",
        "test_loss, test_acc = cnn_model.evaluate(test_images,  test_labels, verbose=2)\n"
      ]
    },
    {
      "attachments": {},
      "cell_type": "markdown",
      "metadata": {
        "id": "7zO_Cz0qqANQ"
      },
      "source": [
        "## Make a Prediction!"
      ]
    },
    {
      "attachments": {},
      "cell_type": "markdown",
      "metadata": {
        "id": "w3h_e7SHvKjL"
      },
      "source": [
        "Prepare the sample image to classify (this is an image that isn't in CIFAR-10)"
      ]
    },
    {
      "cell_type": "code",
      "execution_count": 8,
      "metadata": {
        "id": "HyCo7kpPqCXX"
      },
      "outputs": [],
      "source": [
        "car_url = \"https://github.com/ashna-khemani/cnn-examples/blob/main/CIFAR-10/sample.png?raw=true\"\n",
        "car_path = tf.keras.utils.get_file('sample_car', origin=car_url)\n",
        "\n",
        "# Get the image to the right size\n",
        "img = tf.keras.utils.load_img(\n",
        "    car_path, target_size=(32, 32)\n",
        ")\n",
        "\n",
        "# Turn the image into an array\n",
        "img_array = tf.keras.utils.img_to_array(img)\n",
        "img_array = tf.expand_dims(img_array, 0)\n",
        "\n"
      ]
    },
    {
      "attachments": {},
      "cell_type": "markdown",
      "metadata": {
        "id": "4XGc9IAgvTE0"
      },
      "source": [
        "Get prediction scores for each category"
      ]
    },
    {
      "cell_type": "code",
      "execution_count": 9,
      "metadata": {
        "colab": {
          "base_uri": "https://localhost:8080/"
        },
        "id": "LVeE_jUurJod",
        "outputId": "dea4c192-4688-447a-f3f4-627bbb2e3f57"
      },
      "outputs": [
        {
          "name": "stdout",
          "output_type": "stream",
          "text": [
            "1/1 [==============================] - 0s 188ms/step\n",
            "[[-261.11978   401.31366  -156.40048  -307.155    -977.3217   -239.09969\n",
            "   -32.84356  -424.7383    149.82587   121.345314]]\n"
          ]
        }
      ],
      "source": [
        "predictions = cnn_model.predict(img_array)\n",
        "print(predictions)\n"
      ]
    },
    {
      "attachments": {},
      "cell_type": "markdown",
      "metadata": {
        "id": "BIoIFI_Yvst5"
      },
      "source": [
        "\"Softmax\" these scores. Make them probability-based so they sum to 1"
      ]
    },
    {
      "cell_type": "code",
      "execution_count": 10,
      "metadata": {
        "colab": {
          "base_uri": "https://localhost:8080/"
        },
        "id": "Cb-Dl923sY1t",
        "outputId": "f44acb1d-0b0e-4ae5-8b30-036fb52b7573"
      },
      "outputs": [
        {
          "name": "stdout",
          "output_type": "stream",
          "text": [
            "tf.Tensor([0. 1. 0. 0. 0. 0. 0. 0. 0. 0.], shape=(10,), dtype=float32)\n"
          ]
        }
      ],
      "source": [
        "score = tf.nn.softmax(predictions[0])\n",
        "print(score)"
      ]
    },
    {
      "attachments": {},
      "cell_type": "markdown",
      "metadata": {
        "id": "vw9rAVG3s3eE"
      },
      "source": [
        "This is a correct prediction! From the dataset documentation, the order of labels are `[airplane, automobile, bird, cat, deer, dog, frog, horse, ship, truck]`. We see from our list of `predictions` that it gave the highest score to the second category, `automobile`, which is correct. In fact, it's so confident that once we softmax the predictions (so they're probability-based and sum to 1), it assigns it a confidence of 1 (100%). Nice!\n",
        "\n",
        "*Note: confidences of 100% are cool but in practice should be doubted. It's possible that the data set (and sample) are biased, too small, or not representative of real-world variations. To be absolutely sure a model is reliable, it must be trained and evaluated on a wide diversity of data. This diversity may be hard to achieve in our specific case, since CIFAR-10 is a relatively small dataset.*"
      ]
    },
    {
      "attachments": {},
      "cell_type": "markdown",
      "metadata": {
        "id": "X2O67fJqy8MG"
      },
      "source": [
        "## Export to TensorFlow Lite Model\n",
        "*Helps the model run on apps, mobile devices, etc.*"
      ]
    },
    {
      "attachments": {},
      "cell_type": "markdown",
      "metadata": {
        "id": "LHeMqpdqzCNi"
      },
      "source": [
        "Create Lite model from existing `cnn_model`"
      ]
    },
    {
      "cell_type": "code",
      "execution_count": 11,
      "metadata": {
        "colab": {
          "base_uri": "https://localhost:8080/"
        },
        "id": "ralXCJnAzGla",
        "outputId": "f08d69ab-8ed8-4a87-9d07-6a5aac230f73"
      },
      "outputs": [
        {
          "name": "stderr",
          "output_type": "stream",
          "text": [
            "WARNING:absl:Found untraced functions such as _jit_compiled_convolution_op, _jit_compiled_convolution_op, _jit_compiled_convolution_op while saving (showing 3 of 3). These functions will not be directly callable after loading.\n"
          ]
        }
      ],
      "source": [
        "# Convert the model to a Lite model\n",
        "converter = tf.lite.TFLiteConverter.from_keras_model(cnn_model)\n",
        "tflite_model = converter.convert()\n",
        "\n",
        "# Save Lite model\n",
        "with open('cifar10_model.tflite', 'wb') as f:\n",
        "  f.write(tflite_model)"
      ]
    },
    {
      "attachments": {},
      "cell_type": "markdown",
      "metadata": {
        "id": "xGHmmS_GzTli"
      },
      "source": [
        "Load Lite model, get it ready to classify an image"
      ]
    },
    {
      "cell_type": "code",
      "execution_count": 14,
      "metadata": {
        "colab": {
          "base_uri": "https://localhost:8080/"
        },
        "id": "9ImPcfD3zWDP",
        "outputId": "2a4f3bcc-7bc8-48b6-cb99-55995b7245e7"
      },
      "outputs": [
        {
          "data": {
            "text/plain": [
              "{'serving_default': {'inputs': ['conv2d_input'], 'outputs': ['dense_1']}}"
            ]
          },
          "execution_count": 14,
          "metadata": {},
          "output_type": "execute_result"
        }
      ],
      "source": [
        "# Load Lite model\n",
        "TF_MODEL_FILE_PATH = 'cifar10_model.tflite'\n",
        "interpreter = tf.lite.Interpreter(model_path=TF_MODEL_FILE_PATH)\n",
        "\n",
        "# Get the signature and names of inputs and outputs.\n",
        "# Note the 'inputs' and 'outputs' is the same from cnn_model.summary() - conv2d_input and dense_1\n",
        "interpreter.get_signature_list()\n"
      ]
    },
    {
      "cell_type": "code",
      "execution_count": 15,
      "metadata": {
        "id": "GGRM4CUFzo5y"
      },
      "outputs": [],
      "source": [
        "# Pass signature ('serving_default') for model so we can classify a flower using Lite\n",
        "classify_lite = interpreter.get_signature_runner('serving_default')"
      ]
    },
    {
      "attachments": {},
      "cell_type": "markdown",
      "metadata": {
        "id": "o6doNc4BzttD"
      },
      "source": [
        "Make prediction (using the same sample image)"
      ]
    },
    {
      "cell_type": "code",
      "execution_count": 17,
      "metadata": {
        "colab": {
          "base_uri": "https://localhost:8080/"
        },
        "id": "E0dv4Wv-zwOG",
        "outputId": "3491a4de-96f6-4e61-fa1c-c12b3a271ce9"
      },
      "outputs": [
        {
          "name": "stdout",
          "output_type": "stream",
          "text": [
            "tf.Tensor([[0. 1. 0. 0. 0. 0. 0. 0. 0. 0.]], shape=(1, 10), dtype=float32)\n"
          ]
        }
      ],
      "source": [
        "predictions_lite = classify_lite(conv2d_input=img_array)['dense_1'] # We specify the 'inputs' and 'outputs' here\n",
        "score_lite = tf.nn.softmax(predictions_lite)\n",
        "print(score_lite)\n"
      ]
    },
    {
      "attachments": {},
      "cell_type": "markdown",
      "metadata": {
        "id": "dQke9OA90O6h"
      },
      "source": [
        "There shouldn't be a huge difference between the original and Lite models' predictions"
      ]
    },
    {
      "cell_type": "code",
      "execution_count": 18,
      "metadata": {
        "colab": {
          "base_uri": "https://localhost:8080/"
        },
        "id": "D3KK9Fxu0WpL",
        "outputId": "4a329202-982e-4146-bb6e-0dad9abe509f"
      },
      "outputs": [
        {
          "name": "stdout",
          "output_type": "stream",
          "text": [
            "0.00032806396\n"
          ]
        }
      ],
      "source": [
        "print(np.max(np.abs(predictions - predictions_lite)))"
      ]
    }
  ],
  "metadata": {
    "accelerator": "GPU",
    "colab": {
      "gpuType": "T4",
      "provenance": [],
      "toc_visible": true
    },
    "kernelspec": {
      "display_name": "Python 3",
      "name": "python3"
    },
    "language_info": {
      "codemirror_mode": {
        "name": "ipython",
        "version": 3
      },
      "file_extension": ".py",
      "mimetype": "text/x-python",
      "name": "python",
      "nbconvert_exporter": "python",
      "pygments_lexer": "ipython3",
      "version": "3.10.2"
    },
    "orig_nbformat": 4
  },
  "nbformat": 4,
  "nbformat_minor": 0
}
